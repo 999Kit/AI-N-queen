{
 "cells": [
  {
   "cell_type": "code",
   "execution_count": null,
   "metadata": {},
   "outputs": [],
   "source": [
    "from random import choices"
   ]
  },
  {
   "attachments": {},
   "cell_type": "markdown",
   "metadata": {},
   "source": [
    "a genetic representation of a solution"
   ]
  },
  {
   "cell_type": "code",
   "execution_count": null,
   "metadata": {},
   "outputs": [],
   "source": [
    "genome = list[int] \n",
    "population = list[genome]\n",
    "\n",
    "def generate_genome(length: int) -> genome:\n",
    "    return choices([0, 1], k=length)\n",
    "\n",
    "genome = generate_genome(N)\n",
    "print (genome)"
   ]
  }
 ],
 "metadata": {
  "language_info": {
   "name": "python"
  },
  "orig_nbformat": 4
 },
 "nbformat": 4,
 "nbformat_minor": 2
}
